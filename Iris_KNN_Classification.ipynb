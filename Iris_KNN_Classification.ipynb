{
 "cells": [
  {
   "cell_type": "markdown",
   "id": "7c446419",
   "metadata": {},
   "source": [
    "# K-Nearest Neighbors (KNN) Algorithm"
   ]
  },
  {
   "cell_type": "code",
   "execution_count": 1,
   "id": "048ba69c",
   "metadata": {},
   "outputs": [
    {
     "data": {
      "text/html": [
       "<div>\n",
       "<style scoped>\n",
       "    .dataframe tbody tr th:only-of-type {\n",
       "        vertical-align: middle;\n",
       "    }\n",
       "\n",
       "    .dataframe tbody tr th {\n",
       "        vertical-align: top;\n",
       "    }\n",
       "\n",
       "    .dataframe thead th {\n",
       "        text-align: right;\n",
       "    }\n",
       "</style>\n",
       "<table border=\"1\" class=\"dataframe\">\n",
       "  <thead>\n",
       "    <tr style=\"text-align: right;\">\n",
       "      <th></th>\n",
       "      <th>sepal length (cm)</th>\n",
       "      <th>sepal width (cm)</th>\n",
       "      <th>petal length (cm)</th>\n",
       "      <th>petal width (cm)</th>\n",
       "      <th>target</th>\n",
       "    </tr>\n",
       "  </thead>\n",
       "  <tbody>\n",
       "    <tr>\n",
       "      <th>0</th>\n",
       "      <td>5.1</td>\n",
       "      <td>3.5</td>\n",
       "      <td>1.4</td>\n",
       "      <td>0.2</td>\n",
       "      <td>0.0</td>\n",
       "    </tr>\n",
       "    <tr>\n",
       "      <th>1</th>\n",
       "      <td>4.9</td>\n",
       "      <td>3.0</td>\n",
       "      <td>1.4</td>\n",
       "      <td>0.2</td>\n",
       "      <td>0.0</td>\n",
       "    </tr>\n",
       "    <tr>\n",
       "      <th>2</th>\n",
       "      <td>4.7</td>\n",
       "      <td>3.2</td>\n",
       "      <td>1.3</td>\n",
       "      <td>0.2</td>\n",
       "      <td>0.0</td>\n",
       "    </tr>\n",
       "    <tr>\n",
       "      <th>3</th>\n",
       "      <td>4.6</td>\n",
       "      <td>3.1</td>\n",
       "      <td>1.5</td>\n",
       "      <td>0.2</td>\n",
       "      <td>0.0</td>\n",
       "    </tr>\n",
       "    <tr>\n",
       "      <th>4</th>\n",
       "      <td>5.0</td>\n",
       "      <td>3.6</td>\n",
       "      <td>1.4</td>\n",
       "      <td>0.2</td>\n",
       "      <td>0.0</td>\n",
       "    </tr>\n",
       "  </tbody>\n",
       "</table>\n",
       "</div>"
      ],
      "text/plain": [
       "   sepal length (cm)  sepal width (cm)  petal length (cm)  petal width (cm)  \\\n",
       "0                5.1               3.5                1.4               0.2   \n",
       "1                4.9               3.0                1.4               0.2   \n",
       "2                4.7               3.2                1.3               0.2   \n",
       "3                4.6               3.1                1.5               0.2   \n",
       "4                5.0               3.6                1.4               0.2   \n",
       "\n",
       "   target  \n",
       "0     0.0  \n",
       "1     0.0  \n",
       "2     0.0  \n",
       "3     0.0  \n",
       "4     0.0  "
      ]
     },
     "execution_count": 1,
     "metadata": {},
     "output_type": "execute_result"
    }
   ],
   "source": [
    "import numpy as np\n",
    "import pandas as pd\n",
    "import matplotlib.pyplot as plt\n",
    "import seaborn as sns\n",
    "\n",
    "from sklearn.metrics import confusion_matrix, accuracy_score\n",
    "from sklearn.model_selection import train_test_split\n",
    "from sklearn.neighbors import KNeighborsClassifier\n",
    "from sklearn import metrics\n",
    "\n",
    "# Import the iris dataset as provided by the sklearn Python module\n",
    "from sklearn.datasets import load_iris\n",
    "iris = load_iris()\n",
    "\n",
    "type(iris)\n",
    "\n",
    "# Converting sklearn data into Pandas dataframe\n",
    "# target variables imply\n",
    "# 0.0 - Setosa\n",
    "# 1.0 - Versicolor\n",
    "# 2.0 - Virginica\n",
    "\n",
    "iris = pd.DataFrame(data= np.c_[iris['data'], iris['target']],columns= iris['feature_names'] + ['target'])\n",
    "iris.head()"
   ]
  },
  {
   "cell_type": "markdown",
   "id": "885bc51b",
   "metadata": {},
   "source": [
    "### Checking for outliers and imbalanced data"
   ]
  },
  {
   "cell_type": "code",
   "execution_count": 2,
   "id": "bbc0e0f6",
   "metadata": {},
   "outputs": [
    {
     "data": {
      "image/png": "[encoded data removed]",
      "text/plain": [
       "<Figure size 432x288 with 1 Axes>"
      ]
     },
     "metadata": {
      "needs_background": "light"
     },
     "output_type": "display_data"
    },
    {
     "data": {
      "image/png": "[encoded data removed]",
      "text/plain": [
       "<Figure size 432x288 with 1 Axes>"
      ]
     },
     "metadata": {
      "needs_background": "light"
     },
     "output_type": "display_data"
    },
    {
     "data": {
      "image/png": "[encoded data removed]",
      "text/plain": [
       "<Figure size 432x288 with 1 Axes>"
      ]
     },
     "metadata": {
      "needs_background": "light"
     },
     "output_type": "display_data"
    },
    {
     "data": {
      "image/png": "[encoded data removed]",
      "text/plain": [
       "<Figure size 432x288 with 1 Axes>"
      ]
     },
     "metadata": {
      "needs_background": "light"
     },
     "output_type": "display_data"
    }
   ],
   "source": [
    "# data is perfectly balanced\n",
    "sns.countplot(x='target', data=iris)\n",
    "\n",
    "# not much of outliers to br handled\n",
    "for feature in ['sepal length (cm)', 'sepal width (cm)', 'petal length (cm)', 'petal width (cm)']:\n",
    "    sns.boxplot(x='target', y=feature, data=iris)\n",
    "    plt.show()"
   ]
  },
  {
   "cell_type": "markdown",
   "id": "4e5decc0",
   "metadata": {},
   "source": [
    "### Plotting a 2-D graph"
   ]
  },
  {
   "cell_type": "code",
   "execution_count": 3,
   "id": "e3e8976f",
   "metadata": {},
   "outputs": [
    {
     "data": {
      "text/plain": [
       "<AxesSubplot:xlabel='sepal length (cm)', ylabel='sepal width (cm)'>"
      ]
     },
     "execution_count": 3,
     "metadata": {},
     "output_type": "execute_result"
    },
    {
     "data": {
      "image/png": "[encoded data removed]",
      "text/plain": [
       "<Figure size 432x288 with 1 Axes>"
      ]
     },
     "metadata": {
      "needs_background": "light"
     },
     "output_type": "display_data"
    }
   ],
   "source": [
    "sns.scatterplot(x='sepal length (cm)', y='sepal width (cm)', data=iris, hue='target', palette=\"deep\")"
   ]
  },
  {
   "cell_type": "markdown",
   "id": "a98fb236",
   "metadata": {},
   "source": [
    "### Separating features and target"
   ]
  },
  {
   "cell_type": "code",
   "execution_count": 4,
   "id": "658e36e9",
   "metadata": {},
   "outputs": [],
   "source": [
    "# X variable contains flower features\n",
    "# Y variable contains target values\n",
    "\n",
    "X = iris.drop(['target'], axis=1)\n",
    "y = iris['target']"
   ]
  },
  {
   "cell_type": "markdown",
   "id": "186713da",
   "metadata": {},
   "source": [
    "### Split the dataset into train and test sets"
   ]
  },
  {
   "cell_type": "code",
   "execution_count": 5,
   "id": "5b4bbe50",
   "metadata": {},
   "outputs": [],
   "source": [
    "# 60% of the data will be randomly selected at training data\n",
    "# remaining 40% as testing data\n",
    "\n",
    "X_train, X_test, y_train, y_test = train_test_split(X, y, test_size=0.4, random_state=0)"
   ]
  },
  {
   "cell_type": "code",
   "execution_count": 6,
   "id": "b3c9f91e",
   "metadata": {},
   "outputs": [],
   "source": [
    "# checking accuracy score for k-value rangin from 1 to 26\n",
    "\n",
    "k_range = list(range(1,26))\n",
    "scores = []"
   ]
  },
  {
   "cell_type": "code",
   "execution_count": 7,
   "id": "ae9fb803",
   "metadata": {},
   "outputs": [
    {
     "data": {
      "image/png": "[encoded data removed]",
      "text/plain": [
       "<Figure size 432x288 with 1 Axes>"
      ]
     },
     "metadata": {
      "needs_background": "light"
     },
     "output_type": "display_data"
    }
   ],
   "source": [
    "#model fitting and calculating accuracy score\n",
    "# for each k-value in the range 1-26\n",
    "\n",
    "for k in k_range:\n",
    "    knn = KNeighborsClassifier(n_neighbors=k)\n",
    "    knn.fit(X_train, y_train)\n",
    "    y_pred = knn.predict(X_test)\n",
    "    scores.append(metrics.accuracy_score(y_test, y_pred))\n",
    "\n",
    "plt.plot(k_range, scores)\n",
    "plt.xlabel('Value of k')\n",
    "plt.ylabel('Accuracy Score')\n",
    "plt.title('Accuracy Scores for different values of k')\n",
    "plt.show()\n",
    "\n",
    "# 60% of the data will be randomly selected at training data\n",
    "# remaining 40% as testing data\n",
    "\n",
    "X_train, X_test, y_train, y_test = train_test_split(X, y, test_size=0.4, random_state=0)"
   ]
  },
  {
   "cell_type": "markdown",
   "id": "60223505",
   "metadata": {},
   "source": [
    "### Initial model"
   ]
  },
  {
   "cell_type": "code",
   "execution_count": 8,
   "id": "e9374aa8",
   "metadata": {},
   "outputs": [
    {
     "name": "stdout",
     "output_type": "stream",
     "text": [
      "0.9666666666666667\n"
     ]
    }
   ],
   "source": [
    "# Initial model with nearest neighbor as 1(k-value)\n",
    "# further, k will be replaced with optimal value\n",
    "\n",
    "knn = KNeighborsClassifier(n_neighbors = 10)\n",
    "knn.fit(X_train, y_train)\n",
    "print(knn.score(X_test, y_test))"
   ]
  },
  {
   "cell_type": "markdown",
   "id": "1391756f",
   "metadata": {},
   "source": [
    "### Finding the right k-value"
   ]
  },
  {
   "cell_type": "code",
   "execution_count": 9,
   "id": "36b6698f",
   "metadata": {},
   "outputs": [
    {
     "data": {
      "image/png": "[encoded data removed]",
      "text/plain": [
       "<Figure size 432x288 with 1 Axes>"
      ]
     },
     "metadata": {
      "needs_background": "light"
     },
     "output_type": "display_data"
    }
   ],
   "source": [
    "# checking accuracy score for k-value rangin from 1 to 26\n",
    "\n",
    "k_range = list(range(1,26))\n",
    "scores = []\n",
    "\n",
    "# model fitting and calculating accuracy score\n",
    "# for each k-value in the range 1-26\n",
    "\n",
    "for k in k_range:\n",
    "    knn = KNeighborsClassifier(n_neighbors=k)\n",
    "    knn.fit(X_train, y_train)\n",
    "    y_pred = knn.predict(X_test)\n",
    "    scores.append(metrics.accuracy_score(y_test, y_pred))\n",
    "\n",
    "plt.plot(k_range, scores)\n",
    "plt.xlabel('Value of k')\n",
    "plt.ylabel('Accuracy Score')\n",
    "plt.title('Accuracy Scores for different values of k')\n",
    "plt.show()"
   ]
  },
  {
   "cell_type": "markdown",
   "id": "ad597f71",
   "metadata": {},
   "source": [
    "### Accuracy for optimal k-value"
   ]
  },
  {
   "cell_type": "code",
   "execution_count": 10,
   "id": "f7baff57",
   "metadata": {},
   "outputs": [
    {
     "name": "stdout",
     "output_type": "stream",
     "text": [
      "0.9666666666666667\n"
     ]
    }
   ],
   "source": [
    "# 11 is the optimal k-value for this dataset\n",
    "\n",
    "knn = KNeighborsClassifier(n_neighbors=11)\n",
    "knn.fit(X_train, y_train)\n",
    "print(knn.score(X_test, y_test))"
   ]
  },
  {
   "cell_type": "markdown",
   "id": "6f510b71",
   "metadata": {},
   "source": [
    "### Predicting class of new data"
   ]
  },
  {
   "cell_type": "code",
   "execution_count": 11,
   "id": "546c01a4",
   "metadata": {},
   "outputs": [
    {
     "name": "stdout",
     "output_type": "stream",
     "text": [
      "[0.]\n",
      "Setosa\n"
     ]
    }
   ],
   "source": [
    "knn = KNeighborsClassifier(n_neighbors=11)\n",
    "\n",
    "# fitting the entire data without splitting\n",
    "# into train and test\n",
    "\n",
    "knn.fit(iris.drop(['target'], axis=1), iris['target'])\n",
    "\n",
    "# new data to be classified\n",
    "X_new = np.array([[5.0,3.6,1.4,0.2]])\n",
    "prediction = knn.predict(X_new)\n",
    "print(prediction)\n",
    "\n",
    "if prediction[0] == 0.0:\n",
    "  print('Setosa')\n",
    "elif prediction[0] == 1.0:\n",
    "  print('Versicolor')\n",
    "else:\n",
    "  print('Virginica')"
   ]
  },
  {
   "cell_type": "markdown",
   "id": "14a77a3b",
   "metadata": {},
   "source": [
    "## Questions"
   ]
  },
  {
   "cell_type": "code",
   "execution_count": null,
   "id": "d4fdb2a1",
   "metadata": {},
   "outputs": [],
   "source": [
    "# Using the iris.ipynb file Our choice of 10 for K was completely out of thin air, I just made that up.\n",
    "\n",
    "'''\n",
    "1) How does this respond to different K values? Do you get better results with a higher value of K, or with a lower value of K? \n",
    "   Does it matter?\n",
    "\n",
    "2) Come up with your test dataset and check what the prediction is.\n",
    "'''"
   ]
  },
  {
   "cell_type": "markdown",
   "id": "e21ed36e",
   "metadata": {},
   "source": [
    "### 1) How does this respond to different K values? Do you get better results with a higher value of K, or with a lower value of K?     Does it matter?"
   ]
  },
  {
   "cell_type": "code",
   "execution_count": 12,
   "id": "43ebe7fd",
   "metadata": {
    "scrolled": true
   },
   "outputs": [
    {
     "data": {
      "image/png": "[encoded data removed]",
      "text/plain": [
       "<Figure size 432x288 with 1 Axes>"
      ]
     },
     "metadata": {
      "needs_background": "light"
     },
     "output_type": "display_data"
    }
   ],
   "source": [
    "# K Values from 1 to 91 as maximum \n",
    "\n",
    "k_range = list(range(1,91))\n",
    "scores = []\n",
    "\n",
    "for k in k_range:\n",
    "    knn = KNeighborsClassifier(n_neighbors=k)\n",
    "    knn.fit(X_train, y_train)\n",
    "    y_pred = knn.predict(X_test)\n",
    "    scores.append(metrics.accuracy_score(y_test, y_pred))\n",
    "\n",
    "plt.plot(k_range, scores)\n",
    "plt.xlabel('Value of k')\n",
    "plt.ylabel('Accuracy Score')\n",
    "plt.title('Accuracy Scores for different values of k')\n",
    "plt.show()\n",
    "\n",
    "# From the graph we can observe that the accuracy keeps reduces as the value of 'K' increases. Hence, using higher 'K' values\n",
    "# becomes redundant."
   ]
  },
  {
   "cell_type": "code",
   "execution_count": 13,
   "id": "5e7f2621",
   "metadata": {},
   "outputs": [
    {
     "data": {
      "image/png": "[encoded data removed]",
      "text/plain": [
       "<Figure size 432x288 with 1 Axes>"
      ]
     },
     "metadata": {
      "needs_background": "light"
     },
     "output_type": "display_data"
    }
   ],
   "source": [
    "# K value detailed from 1 - 15\n",
    "\n",
    "k_range = list(range(1,15))\n",
    "scores = []\n",
    "\n",
    "for k in k_range:\n",
    "    knn = KNeighborsClassifier(n_neighbors=k)\n",
    "    knn.fit(X_train, y_train)\n",
    "    y_pred = knn.predict(X_test)\n",
    "    scores.append(metrics.accuracy_score(y_test, y_pred))\n",
    "\n",
    "plt.plot(k_range, scores)\n",
    "plt.xlabel('Value of k')\n",
    "plt.ylabel('Accuracy Score')\n",
    "plt.title('Accuracy Scores for different values of k')\n",
    "plt.show()\n",
    "\n",
    "# From the below graph we can observe that the maximim accuracy of 'K' close to 0.97 is observed\n",
    "# at 'K' values equal to 7 ; 9 ; 10 ; 11.\n",
    "\n",
    "# So, we can conclude that using lower values 'K' for the KNN Classifier, we can achieve higher efficiency."
   ]
  },
  {
   "cell_type": "markdown",
   "id": "a7b36bfe",
   "metadata": {},
   "source": [
    "### 2) Come up with your test dataset and check what the prediction is."
   ]
  },
  {
   "cell_type": "code",
   "execution_count": 14,
   "id": "0abe6b43",
   "metadata": {},
   "outputs": [
    {
     "data": {
      "text/html": [
       "<div>\n",
       "<style scoped>\n",
       "    .dataframe tbody tr th:only-of-type {\n",
       "        vertical-align: middle;\n",
       "    }\n",
       "\n",
       "    .dataframe tbody tr th {\n",
       "        vertical-align: top;\n",
       "    }\n",
       "\n",
       "    .dataframe thead th {\n",
       "        text-align: right;\n",
       "    }\n",
       "</style>\n",
       "<table border=\"1\" class=\"dataframe\">\n",
       "  <thead>\n",
       "    <tr style=\"text-align: right;\">\n",
       "      <th></th>\n",
       "      <th>sepal length (cm)</th>\n",
       "      <th>sepal width (cm)</th>\n",
       "      <th>petal length (cm)</th>\n",
       "      <th>petal width (cm)</th>\n",
       "      <th>target</th>\n",
       "    </tr>\n",
       "  </thead>\n",
       "  <tbody>\n",
       "    <tr>\n",
       "      <th>count</th>\n",
       "      <td>150.000000</td>\n",
       "      <td>150.000000</td>\n",
       "      <td>150.000000</td>\n",
       "      <td>150.000000</td>\n",
       "      <td>150.000000</td>\n",
       "    </tr>\n",
       "    <tr>\n",
       "      <th>mean</th>\n",
       "      <td>5.843333</td>\n",
       "      <td>3.057333</td>\n",
       "      <td>3.758000</td>\n",
       "      <td>1.199333</td>\n",
       "      <td>1.000000</td>\n",
       "    </tr>\n",
       "    <tr>\n",
       "      <th>std</th>\n",
       "      <td>0.828066</td>\n",
       "      <td>0.435866</td>\n",
       "      <td>1.765298</td>\n",
       "      <td>0.762238</td>\n",
       "      <td>0.819232</td>\n",
       "    </tr>\n",
       "    <tr>\n",
       "      <th>min</th>\n",
       "      <td>4.300000</td>\n",
       "      <td>2.000000</td>\n",
       "      <td>1.000000</td>\n",
       "      <td>0.100000</td>\n",
       "      <td>0.000000</td>\n",
       "    </tr>\n",
       "    <tr>\n",
       "      <th>25%</th>\n",
       "      <td>5.100000</td>\n",
       "      <td>2.800000</td>\n",
       "      <td>1.600000</td>\n",
       "      <td>0.300000</td>\n",
       "      <td>0.000000</td>\n",
       "    </tr>\n",
       "    <tr>\n",
       "      <th>50%</th>\n",
       "      <td>5.800000</td>\n",
       "      <td>3.000000</td>\n",
       "      <td>4.350000</td>\n",
       "      <td>1.300000</td>\n",
       "      <td>1.000000</td>\n",
       "    </tr>\n",
       "    <tr>\n",
       "      <th>75%</th>\n",
       "      <td>6.400000</td>\n",
       "      <td>3.300000</td>\n",
       "      <td>5.100000</td>\n",
       "      <td>1.800000</td>\n",
       "      <td>2.000000</td>\n",
       "    </tr>\n",
       "    <tr>\n",
       "      <th>max</th>\n",
       "      <td>7.900000</td>\n",
       "      <td>4.400000</td>\n",
       "      <td>6.900000</td>\n",
       "      <td>2.500000</td>\n",
       "      <td>2.000000</td>\n",
       "    </tr>\n",
       "  </tbody>\n",
       "</table>\n",
       "</div>"
      ],
      "text/plain": [
       "       sepal length (cm)  sepal width (cm)  petal length (cm)  \\\n",
       "count         150.000000        150.000000         150.000000   \n",
       "mean            5.843333          3.057333           3.758000   \n",
       "std             0.828066          0.435866           1.765298   \n",
       "min             4.300000          2.000000           1.000000   \n",
       "25%             5.100000          2.800000           1.600000   \n",
       "50%             5.800000          3.000000           4.350000   \n",
       "75%             6.400000          3.300000           5.100000   \n",
       "max             7.900000          4.400000           6.900000   \n",
       "\n",
       "       petal width (cm)      target  \n",
       "count        150.000000  150.000000  \n",
       "mean           1.199333    1.000000  \n",
       "std            0.762238    0.819232  \n",
       "min            0.100000    0.000000  \n",
       "25%            0.300000    0.000000  \n",
       "50%            1.300000    1.000000  \n",
       "75%            1.800000    2.000000  \n",
       "max            2.500000    2.000000  "
      ]
     },
     "execution_count": 14,
     "metadata": {},
     "output_type": "execute_result"
    }
   ],
   "source": [
    "# Maximum dimensions biologically observed from the dataframe.\n",
    "\n",
    "iris.describe()"
   ]
  },
  {
   "cell_type": "code",
   "execution_count": 15,
   "id": "71d51870",
   "metadata": {},
   "outputs": [
    {
     "data": {
      "text/html": [
       "<div>\n",
       "<style scoped>\n",
       "    .dataframe tbody tr th:only-of-type {\n",
       "        vertical-align: middle;\n",
       "    }\n",
       "\n",
       "    .dataframe tbody tr th {\n",
       "        vertical-align: top;\n",
       "    }\n",
       "\n",
       "    .dataframe thead th {\n",
       "        text-align: right;\n",
       "    }\n",
       "</style>\n",
       "<table border=\"1\" class=\"dataframe\">\n",
       "  <thead>\n",
       "    <tr style=\"text-align: right;\">\n",
       "      <th></th>\n",
       "      <th>sepal length (cm)</th>\n",
       "      <th>sepal width (cm)</th>\n",
       "      <th>petal length (cm)</th>\n",
       "      <th>petal width (cm)</th>\n",
       "      <th>target</th>\n",
       "    </tr>\n",
       "  </thead>\n",
       "  <tbody>\n",
       "    <tr>\n",
       "      <th>0</th>\n",
       "      <td>5.1</td>\n",
       "      <td>3.5</td>\n",
       "      <td>1.4</td>\n",
       "      <td>0.2</td>\n",
       "      <td>0.0</td>\n",
       "    </tr>\n",
       "    <tr>\n",
       "      <th>1</th>\n",
       "      <td>4.9</td>\n",
       "      <td>3.0</td>\n",
       "      <td>1.4</td>\n",
       "      <td>0.2</td>\n",
       "      <td>0.0</td>\n",
       "    </tr>\n",
       "    <tr>\n",
       "      <th>2</th>\n",
       "      <td>4.7</td>\n",
       "      <td>3.2</td>\n",
       "      <td>1.3</td>\n",
       "      <td>0.2</td>\n",
       "      <td>0.0</td>\n",
       "    </tr>\n",
       "    <tr>\n",
       "      <th>3</th>\n",
       "      <td>4.6</td>\n",
       "      <td>3.1</td>\n",
       "      <td>1.5</td>\n",
       "      <td>0.2</td>\n",
       "      <td>0.0</td>\n",
       "    </tr>\n",
       "    <tr>\n",
       "      <th>4</th>\n",
       "      <td>5.0</td>\n",
       "      <td>3.6</td>\n",
       "      <td>1.4</td>\n",
       "      <td>0.2</td>\n",
       "      <td>0.0</td>\n",
       "    </tr>\n",
       "    <tr>\n",
       "      <th>...</th>\n",
       "      <td>...</td>\n",
       "      <td>...</td>\n",
       "      <td>...</td>\n",
       "      <td>...</td>\n",
       "      <td>...</td>\n",
       "    </tr>\n",
       "    <tr>\n",
       "      <th>145</th>\n",
       "      <td>6.7</td>\n",
       "      <td>3.0</td>\n",
       "      <td>5.2</td>\n",
       "      <td>2.3</td>\n",
       "      <td>2.0</td>\n",
       "    </tr>\n",
       "    <tr>\n",
       "      <th>146</th>\n",
       "      <td>6.3</td>\n",
       "      <td>2.5</td>\n",
       "      <td>5.0</td>\n",
       "      <td>1.9</td>\n",
       "      <td>2.0</td>\n",
       "    </tr>\n",
       "    <tr>\n",
       "      <th>147</th>\n",
       "      <td>6.5</td>\n",
       "      <td>3.0</td>\n",
       "      <td>5.2</td>\n",
       "      <td>2.0</td>\n",
       "      <td>2.0</td>\n",
       "    </tr>\n",
       "    <tr>\n",
       "      <th>148</th>\n",
       "      <td>6.2</td>\n",
       "      <td>3.4</td>\n",
       "      <td>5.4</td>\n",
       "      <td>2.3</td>\n",
       "      <td>2.0</td>\n",
       "    </tr>\n",
       "    <tr>\n",
       "      <th>149</th>\n",
       "      <td>5.9</td>\n",
       "      <td>3.0</td>\n",
       "      <td>5.1</td>\n",
       "      <td>1.8</td>\n",
       "      <td>2.0</td>\n",
       "    </tr>\n",
       "  </tbody>\n",
       "</table>\n",
       "<p>150 rows × 5 columns</p>\n",
       "</div>"
      ],
      "text/plain": [
       "     sepal length (cm)  sepal width (cm)  petal length (cm)  petal width (cm)  \\\n",
       "0                  5.1               3.5                1.4               0.2   \n",
       "1                  4.9               3.0                1.4               0.2   \n",
       "2                  4.7               3.2                1.3               0.2   \n",
       "3                  4.6               3.1                1.5               0.2   \n",
       "4                  5.0               3.6                1.4               0.2   \n",
       "..                 ...               ...                ...               ...   \n",
       "145                6.7               3.0                5.2               2.3   \n",
       "146                6.3               2.5                5.0               1.9   \n",
       "147                6.5               3.0                5.2               2.0   \n",
       "148                6.2               3.4                5.4               2.3   \n",
       "149                5.9               3.0                5.1               1.8   \n",
       "\n",
       "     target  \n",
       "0       0.0  \n",
       "1       0.0  \n",
       "2       0.0  \n",
       "3       0.0  \n",
       "4       0.0  \n",
       "..      ...  \n",
       "145     2.0  \n",
       "146     2.0  \n",
       "147     2.0  \n",
       "148     2.0  \n",
       "149     2.0  \n",
       "\n",
       "[150 rows x 5 columns]"
      ]
     },
     "metadata": {},
     "output_type": "display_data"
    }
   ],
   "source": [
    "display(iris)"
   ]
  },
  {
   "cell_type": "code",
   "execution_count": 16,
   "id": "3da31f0d",
   "metadata": {},
   "outputs": [
    {
     "name": "stdout",
     "output_type": "stream",
     "text": [
      "Random State = 1\n",
      "For Split Ratio (Train:Test = 80:20)\n",
      "KNN Score Achieved = 1.0\n",
      "\n",
      "Predicting new data - [7.7, 3.8, 6.7, 2.2]\n",
      "Value - 2 : Virginica\n",
      "Test Result Comparison : P - Predicted Value and A - Actual Value\n",
      "\n",
      "--P||A--\n",
      "[[0. 0.]\n",
      " [1. 1.]\n",
      " [1. 1.]\n",
      " [0. 0.]\n",
      " [2. 2.]\n",
      " [1. 1.]\n",
      " [2. 2.]\n",
      " [0. 0.]\n",
      " [0. 0.]\n",
      " [2. 2.]\n",
      " [1. 1.]\n",
      " [0. 0.]\n",
      " [2. 2.]\n",
      " [1. 1.]\n",
      " [1. 1.]\n",
      " [0. 0.]\n",
      " [1. 1.]\n",
      " [1. 1.]\n",
      " [0. 0.]\n",
      " [0. 0.]\n",
      " [1. 1.]\n",
      " [1. 1.]\n",
      " [2. 1.]\n",
      " [0. 0.]\n",
      " [2. 2.]\n",
      " [1. 1.]\n",
      " [0. 0.]\n",
      " [0. 0.]\n",
      " [1. 1.]\n",
      " [2. 2.]]\n",
      "\n",
      "Confusion Matrix\n",
      "S - Setosa     ; NS - Not Setosa\n",
      "V - Versicolor ; NV - Not Versicolor\n",
      "C - Virginica  ; NC - Not Virginica\n",
      "\n",
      "[S ][NS][NS]\n",
      "[NV][V ][NV]\n",
      "[NC][NC][C ]\n",
      "\n",
      "[[11  0  0]\n",
      " [ 0 12  1]\n",
      " [ 0  0  6]]\n",
      "\n"
     ]
    }
   ],
   "source": [
    "'''Splitting values X and Y'''\n",
    "\n",
    "X = iris.iloc[ : , :-1].values\n",
    "Y = iris.iloc[ : , -1].values\n",
    "\n",
    "\n",
    "\n",
    "'''Splitting the dataset into training and test sets'''\n",
    "\n",
    "from sklearn.model_selection import train_test_split\n",
    "X_train, X_test, Y_train, Y_test = train_test_split(X, Y, test_size = 0.2, random_state = 1)\n",
    "\n",
    "\n",
    "\n",
    "'''Choosing 10 as the Optimal Value after graphing'''\n",
    "\n",
    "classifier = KNeighborsClassifier(n_neighbors = 10)\n",
    "classifier.fit(X_train, Y_train)\n",
    "\n",
    "print(f'Random State = 1\\nFor Split Ratio (Train:Test = 80:20)\\nKNN Score Achieved = {knn.score(X_test, Y_test)}', end = '\\n\\n')\n",
    "\n",
    "\n",
    "\n",
    "'''Predicting new data'''\n",
    "\n",
    "New_Data_Test = [7.7, 3.8, 6.7, 2.2]\n",
    "X_new = np.array([New_Data_Test])\n",
    "prediction = knn.predict(X_new)\n",
    "print(f'Predicting new data - {New_Data_Test}')\n",
    "\n",
    "if prediction[0] == 0.0:\n",
    "  print(f'Value - {int(prediction)} : Setosa')\n",
    "elif prediction[0] == 1.0:\n",
    "  print(f'Value - {int(prediction)} : Versicolor')\n",
    "else:\n",
    "  print(f'Value - {int(prediction)} : Virginica')\n",
    "\n",
    "\n",
    "\n",
    "'''Predicting and Comparing Test Result'''\n",
    "\n",
    "Predict_X_test = classifier.predict(X_test)\n",
    "\n",
    "print('Test Result Comparison : P - Predicted Value and A - Actual Value\\n')\n",
    "print('--P||A--')\n",
    "print(np.concatenate((Predict_X_test.reshape(len(Predict_X_test),1),Y_test.reshape(len(Y_test),1)),1))\n",
    "\n",
    "\n",
    "\n",
    "'''Confusion Matrix'''\n",
    "\n",
    "cm = confusion_matrix(Y_test, Predict_X_test)\n",
    "print(f'\\nConfusion Matrix')\n",
    "print('S - Setosa     ; NS - Not Setosa\\nV - Versicolor ; NV - Not Versicolor\\nC - Virginica  ; NC - Not Virginica')\n",
    "print('\\n[S ][NS][NS]\\n[NV][V ][NV]\\n[NC][NC][C ]')\n",
    "print(f'\\n{cm}\\n')"
   ]
  },
  {
   "cell_type": "code",
   "execution_count": null,
   "id": "424d3ce4",
   "metadata": {},
   "outputs": [],
   "source": [
    "#From the above prediction, we can deduce the following points -\n",
    "\n",
    "'''\n",
    "1) From the KNN Score achieved, we can see that the prediction value was 96%. \n",
    "   It is a good score for 80:20 - Train:Test Split and 'Random_State' marked as True .\n",
    "\n",
    "2) The dimensional parameters provided to the model for prediction was from 'Virginica' for which the model was accurately \n",
    "   able to predict.\n",
    "\n",
    "3) From the Test Data as we can see, the model accurately predicts the expected value but renders 1 error value which can be \n",
    "   seen in the confusion matrix for the flower - 'Versicolor'.\n",
    "'''"
   ]
  }
 ],
 "metadata": {
  "kernelspec": {
   "display_name": "Python 3 (ipykernel)",
   "language": "python",
   "name": "python3"
  },
  "language_info": {
   "codemirror_mode": {
    "name": "ipython",
    "version": 3
   },
   "file_extension": ".py",
   "mimetype": "text/x-python",
   "name": "python",
   "nbconvert_exporter": "python",
   "pygments_lexer": "ipython3",
   "version": "3.9.7"
  }
 },
 "nbformat": 4,
 "nbformat_minor": 5
}
